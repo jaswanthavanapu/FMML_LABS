{
  "nbformat": 4,
  "nbformat_minor": 0,
  "metadata": {
    "colab": {
      "provenance": [],
      "include_colab_link": true
    },
    "kernelspec": {
      "name": "python3",
      "display_name": "Python 3"
    },
    "language_info": {
      "name": "python"
    }
  },
  "cells": [
    {
      "cell_type": "markdown",
      "metadata": {
        "id": "view-in-github",
        "colab_type": "text"
      },
      "source": [
        "<a href=\"https://colab.research.google.com/github/jaswanthavanapu/FMML_LABS/blob/main/Module_01_Lab_02_MLPractice.ipynb\" target=\"_parent\"><img src=\"https://colab.research.google.com/assets/colab-badge.svg\" alt=\"Open In Colab\"/></a>"
      ]
    },
    {
      "cell_type": "markdown",
      "metadata": {
        "id": "3Eu9VZbF01eq"
      },
      "source": [
        "# Machine learning terms and metrics\n",
        "\n",
        "FMML Module 1, Lab 2<br>\n",
        "\n",
        "\n",
        " In this lab, we will show a part of the ML pipeline by extracting features, training and testing"
      ]
    },
    {
      "cell_type": "code",
      "source": [
        "from google.colab import drive\n",
        "drive.mount('/content/gdrive')"
      ],
      "metadata": {
        "id": "ksHssWIC0Hja",
        "outputId": "29386dd5-9edc-4861-d3aa-dd9db8461684",
        "colab": {
          "base_uri": "https://localhost:8080/"
        }
      },
      "execution_count": 1,
      "outputs": [
        {
          "output_type": "stream",
          "name": "stdout",
          "text": [
            "Mounted at /content/gdrive\n"
          ]
        }
      ]
    },
    {
      "cell_type": "code",
      "metadata": {
        "id": "8qBvyEem0vLi"
      },
      "source": [
        "import matplotlib.pyplot as plt\n",
        "import numpy as np\n",
        "from sklearn import datasets\n",
        "# set randomseed\n",
        "rng = np.random.default_rng(seed=42)"
      ],
      "execution_count": 2,
      "outputs": []
    },
    {
      "cell_type": "markdown",
      "metadata": {
        "id": "u3t59g5s1HfC"
      },
      "source": [
        "In this lab, we will use the California Housing dataset. There are 20640 samples, each with 8 attributes like income of the block, age of the houses per district etc. The task is to predict the cost of the houses per district.\n",
        "\n",
        "Let us download and examine the dataset."
      ]
    },
    {
      "cell_type": "code",
      "metadata": {
        "id": "8LpqjN991GGJ",
        "colab": {
          "base_uri": "https://localhost:8080/"
        },
        "outputId": "bda70353-9a27-4e9a-d5b0-10255e1b1df0"
      },
      "source": [
        " dataset =  datasets.fetch_california_housing()\n",
        " print(dataset.DESCR)  # uncomment this if you want to know more about this dataset\n",
        " print(dataset.keys())  # if you want to know what else is there in this dataset\n",
        " dataset.target = dataset.target.astype(np.int) # so that we can classify\n",
        " print(dataset.data.shape)\n",
        " print(dataset.target.shape)"
      ],
      "execution_count": 3,
      "outputs": [
        {
          "output_type": "stream",
          "name": "stdout",
          "text": [
            ".. _california_housing_dataset:\n",
            "\n",
            "California Housing dataset\n",
            "--------------------------\n",
            "\n",
            "**Data Set Characteristics:**\n",
            "\n",
            "    :Number of Instances: 20640\n",
            "\n",
            "    :Number of Attributes: 8 numeric, predictive attributes and the target\n",
            "\n",
            "    :Attribute Information:\n",
            "        - MedInc        median income in block group\n",
            "        - HouseAge      median house age in block group\n",
            "        - AveRooms      average number of rooms per household\n",
            "        - AveBedrms     average number of bedrooms per household\n",
            "        - Population    block group population\n",
            "        - AveOccup      average number of household members\n",
            "        - Latitude      block group latitude\n",
            "        - Longitude     block group longitude\n",
            "\n",
            "    :Missing Attribute Values: None\n",
            "\n",
            "This dataset was obtained from the StatLib repository.\n",
            "https://www.dcc.fc.up.pt/~ltorgo/Regression/cal_housing.html\n",
            "\n",
            "The target variable is the median house value for California districts,\n",
            "expressed in hundreds of thousands of dollars ($100,000).\n",
            "\n",
            "This dataset was derived from the 1990 U.S. census, using one row per census\n",
            "block group. A block group is the smallest geographical unit for which the U.S.\n",
            "Census Bureau publishes sample data (a block group typically has a population\n",
            "of 600 to 3,000 people).\n",
            "\n",
            "A household is a group of people residing within a home. Since the average\n",
            "number of rooms and bedrooms in this dataset are provided per household, these\n",
            "columns may take surprisingly large values for block groups with few households\n",
            "and many empty houses, such as vacation resorts.\n",
            "\n",
            "It can be downloaded/loaded using the\n",
            ":func:`sklearn.datasets.fetch_california_housing` function.\n",
            "\n",
            ".. topic:: References\n",
            "\n",
            "    - Pace, R. Kelley and Ronald Barry, Sparse Spatial Autoregressions,\n",
            "      Statistics and Probability Letters, 33 (1997) 291-297\n",
            "\n",
            "dict_keys(['data', 'target', 'frame', 'target_names', 'feature_names', 'DESCR'])\n",
            "(20640, 8)\n",
            "(20640,)\n"
          ]
        },
        {
          "output_type": "stream",
          "name": "stderr",
          "text": [
            "<ipython-input-3-d89ecb46a347>:4: DeprecationWarning: `np.int` is a deprecated alias for the builtin `int`. To silence this warning, use `int` by itself. Doing this will not modify any behavior and is safe. When replacing `np.int`, you may wish to use e.g. `np.int64` or `np.int32` to specify the precision. If you wish to review your current use, check the release note link for additional information.\n",
            "Deprecated in NumPy 1.20; for more details and guidance: https://numpy.org/devdocs/release/1.20.0-notes.html#deprecations\n",
            "  dataset.target = dataset.target.astype(np.int) # so that we can classify\n"
          ]
        }
      ]
    },
    {
      "cell_type": "markdown",
      "metadata": {
        "id": "iNx4174W5xRg"
      },
      "source": [
        "Here is a function for calculating the 1-nearest neighbours"
      ]
    },
    {
      "cell_type": "code",
      "source": [
        "type(dataset), dataset.DESCR"
      ],
      "metadata": {
        "id": "6qwO3-1637Vh",
        "outputId": "be6b26a4-151d-49dd-9d09-19071c2c044a",
        "colab": {
          "base_uri": "https://localhost:8080/"
        }
      },
      "execution_count": 4,
      "outputs": [
        {
          "output_type": "execute_result",
          "data": {
            "text/plain": [
              "(sklearn.utils._bunch.Bunch,\n",
              " '.. _california_housing_dataset:\\n\\nCalifornia Housing dataset\\n--------------------------\\n\\n**Data Set Characteristics:**\\n\\n    :Number of Instances: 20640\\n\\n    :Number of Attributes: 8 numeric, predictive attributes and the target\\n\\n    :Attribute Information:\\n        - MedInc        median income in block group\\n        - HouseAge      median house age in block group\\n        - AveRooms      average number of rooms per household\\n        - AveBedrms     average number of bedrooms per household\\n        - Population    block group population\\n        - AveOccup      average number of household members\\n        - Latitude      block group latitude\\n        - Longitude     block group longitude\\n\\n    :Missing Attribute Values: None\\n\\nThis dataset was obtained from the StatLib repository.\\nhttps://www.dcc.fc.up.pt/~ltorgo/Regression/cal_housing.html\\n\\nThe target variable is the median house value for California districts,\\nexpressed in hundreds of thousands of dollars ($100,000).\\n\\nThis dataset was derived from the 1990 U.S. census, using one row per census\\nblock group. A block group is the smallest geographical unit for which the U.S.\\nCensus Bureau publishes sample data (a block group typically has a population\\nof 600 to 3,000 people).\\n\\nA household is a group of people residing within a home. Since the average\\nnumber of rooms and bedrooms in this dataset are provided per household, these\\ncolumns may take surprisingly large values for block groups with few households\\nand many empty houses, such as vacation resorts.\\n\\nIt can be downloaded/loaded using the\\n:func:`sklearn.datasets.fetch_california_housing` function.\\n\\n.. topic:: References\\n\\n    - Pace, R. Kelley and Ronald Barry, Sparse Spatial Autoregressions,\\n      Statistics and Probability Letters, 33 (1997) 291-297\\n')"
            ]
          },
          "metadata": {},
          "execution_count": 4
        }
      ]
    },
    {
      "cell_type": "code",
      "metadata": {
        "id": "07zpydQj1hIQ"
      },
      "source": [
        "def NN1(traindata, trainlabel, query):\n",
        "  diff  = traindata - query  # find the difference between features. Numpy automatically takes care of the size here\n",
        "  sq = diff*diff # square the differences\n",
        "  dist = sq.sum(1) # add up the squares\n",
        "  label = trainlabel[np.argmin(dist)] # our predicted label is the label of the training data which has the least distance from the query\n",
        "  return label\n",
        "\n",
        "def NN(traindata, trainlabel, testdata):\n",
        "  # we will run nearest neighbour for each sample in the test data\n",
        "  # and collect the predicted classes in an array using list comprehension\n",
        "  predlabel = np.array([NN1(traindata, trainlabel, i) for i in testdata])\n",
        "  return predlabel\n",
        "\n",
        "\n",
        "\n",
        "  5,5\n",
        "  6,6\n",
        "  8,9\n",
        "\n",
        "\n",
        "  0,0"
      ],
      "execution_count": 5,
      "outputs": []
    },
    {
      "cell_type": "markdown",
      "metadata": {
        "id": "03JktkfIGaje"
      },
      "source": [
        "We will also define a 'random classifier', which randomly allots labels to each sample"
      ]
    },
    {
      "cell_type": "code",
      "metadata": {
        "id": "fogWAtjyGhAH"
      },
      "source": [
        "def RandomClassifier(traindata, trainlabel, testdata):\n",
        "  # in reality, we don't need these arguments\n",
        "\n",
        "  classes = np.unique(trainlabel)\n",
        "  rints = rng.integers(low=0, high=len(classes), size=len(testdata))\n",
        "  predlabel = classes[rints]\n",
        "  return predlabel"
      ],
      "execution_count": 6,
      "outputs": []
    },
    {
      "cell_type": "markdown",
      "metadata": {
        "id": "1Hjf1KHs7fU5"
      },
      "source": [
        "Let us define a metric 'Accuracy' to see how good our learning algorithm is. Accuracy is the ratio of the number of correctly classified samples to the total number of samples. The higher the accuracy, the better the algorithm."
      ]
    },
    {
      "cell_type": "code",
      "metadata": {
        "id": "ouuCqWU07bz-"
      },
      "source": [
        "def Accuracy(gtlabel, predlabel):\n",
        "  assert len(gtlabel)==len(predlabel), \"Length of the groundtruth labels and predicted labels should be the same\"\n",
        "  correct = (gtlabel==predlabel).sum() # count the number of times the groundtruth label is equal to the predicted label.\n",
        "  return correct/len(gtlabel)"
      ],
      "execution_count": 7,
      "outputs": []
    },
    {
      "cell_type": "markdown",
      "metadata": {
        "id": "4vJFwBFa9Klw"
      },
      "source": [
        "Let us make a function to split the dataset with the desired probability."
      ]
    },
    {
      "cell_type": "code",
      "metadata": {
        "id": "Ko0VzpSM2Tdi"
      },
      "source": [
        "def split(data, label, percent):\n",
        "  # generate a random number for each sample\n",
        "  rnd = rng.random(len(label))\n",
        "  split1 = rnd<percent\n",
        "  split2 = rnd>=percent\n",
        "  split1data = data[split1,:]\n",
        "  split1label = label[split1]\n",
        "  split2data = data[split2,:]\n",
        "  split2label = label[split2]\n",
        "  return split1data, split1label, split2data, split2label"
      ],
      "execution_count": 8,
      "outputs": []
    },
    {
      "cell_type": "markdown",
      "metadata": {
        "id": "AcK3LEAJ_LGC"
      },
      "source": [
        "We will reserve 20% of our dataset as the test set. We will not change this portion throughout our experiments"
      ]
    },
    {
      "cell_type": "code",
      "metadata": {
        "id": "bBZkHBLJ1iU-",
        "colab": {
          "base_uri": "https://localhost:8080/"
        },
        "outputId": "871c2bb7-9de0-4285-9213-ed44534eb170"
      },
      "source": [
        "testdata, testlabel, alltraindata, alltrainlabel = split(dataset.data, dataset.target, 20/100)\n",
        "print('Number of test samples = ', len(testlabel))\n",
        "print('Number of other samples = ', len(alltrainlabel))\n",
        "print('Percent of test data = ', len(testlabel)*100/len(dataset.target),'%')"
      ],
      "execution_count": 9,
      "outputs": [
        {
          "output_type": "stream",
          "name": "stdout",
          "text": [
            "Number of test samples =  4144\n",
            "Number of other samples =  16496\n",
            "Percent of test data =  20.07751937984496 %\n"
          ]
        }
      ]
    },
    {
      "cell_type": "markdown",
      "metadata": {
        "id": "a6Ss0Z6IAGNV"
      },
      "source": [
        "## Experiments with splits\n",
        "\n",
        "Let us reserve some of our train data as a validation set"
      ]
    },
    {
      "cell_type": "code",
      "metadata": {
        "id": "WFew2iry_7W7"
      },
      "source": [
        "traindata, trainlabel, valdata, vallabel = split(alltraindata, alltrainlabel, 75/100)"
      ],
      "execution_count": 10,
      "outputs": []
    },
    {
      "cell_type": "markdown",
      "metadata": {
        "id": "60hiu4clFN1i"
      },
      "source": [
        "What is the accuracy of our classifiers on the train dataset?"
      ]
    },
    {
      "cell_type": "code",
      "metadata": {
        "id": "DBlZDTHUFTZx",
        "colab": {
          "base_uri": "https://localhost:8080/"
        },
        "outputId": "223ca467-da6c-4cf0-8dca-aed408711552"
      },
      "source": [
        "trainpred = NN(traindata, trainlabel, traindata)\n",
        "trainAccuracy = Accuracy(trainlabel, trainpred)\n",
        "print(\"Train accuracy using nearest neighbour is \", trainAccuracy)\n",
        "\n",
        "trainpred = RandomClassifier(traindata, trainlabel, traindata)\n",
        "trainAccuracy = Accuracy(trainlabel, trainpred)\n",
        "print(\"Train accuracy using random classifier is \", trainAccuracy)"
      ],
      "execution_count": 11,
      "outputs": [
        {
          "output_type": "stream",
          "name": "stdout",
          "text": [
            "Train accuracy using nearest neighbour is  1.0\n",
            "Train accuracy using random classifier is  0.164375808538163\n"
          ]
        }
      ]
    },
    {
      "cell_type": "code",
      "source": [
        "'5,5 - A'\n",
        "'6,6 - B'\n",
        "'7,7 - C'\n",
        "\n",
        "\n",
        "'8,8 - A | C'\n",
        "'0,0 -B | A  - 0'\n",
        "\n",
        "\n",
        "'10,10    -A'\n",
        "'15,15    -C'"
      ],
      "metadata": {
        "id": "5oqOu9rC5Ea5",
        "outputId": "ec991a98-9427-45a1-f770-69fe0ca5e416",
        "colab": {
          "base_uri": "https://localhost:8080/",
          "height": 36
        }
      },
      "execution_count": 12,
      "outputs": [
        {
          "output_type": "execute_result",
          "data": {
            "text/plain": [
              "'15,15    -C'"
            ],
            "application/vnd.google.colaboratory.intrinsic+json": {
              "type": "string"
            }
          },
          "metadata": {},
          "execution_count": 12
        }
      ]
    },
    {
      "cell_type": "markdown",
      "source": [
        "Interesting: See how train accuracy of nearest neighbour is 1 i.e. 100%. Ponder and Explain."
      ],
      "metadata": {
        "id": "X6O2ycLd7dMA"
      }
    },
    {
      "cell_type": "markdown",
      "metadata": {
        "id": "7h08-9gJDtSy"
      },
      "source": [
        "For nearest neighbour, the train accuracy is always 1. The accuracy of the random classifier is close to 1/(number of classes) which is 0.1666 in our case.\n",
        "\n",
        "Let us predict the labels for our validation set and get the accuracy"
      ]
    },
    {
      "cell_type": "code",
      "metadata": {
        "id": "4h7bXoW_2H3v",
        "colab": {
          "base_uri": "https://localhost:8080/"
        },
        "outputId": "e307ece1-b9bc-4b25-9a27-ca7457f80167"
      },
      "source": [
        "valpred = NN(traindata, trainlabel, valdata)\n",
        "valAccuracy = Accuracy(vallabel, valpred)\n",
        "print(\"Validation accuracy using nearest neighbour is \", valAccuracy)\n",
        "\n",
        "valpred = RandomClassifier(traindata, trainlabel, valdata)\n",
        "valAccuracy = Accuracy(vallabel, valpred)\n",
        "print(\"Validation accuracy using random classifier is \", valAccuracy)"
      ],
      "execution_count": 13,
      "outputs": [
        {
          "output_type": "stream",
          "name": "stdout",
          "text": [
            "Validation accuracy using nearest neighbour is  0.34108527131782945\n",
            "Validation accuracy using random classifier is  0.1688468992248062\n"
          ]
        }
      ]
    },
    {
      "cell_type": "markdown",
      "metadata": {
        "id": "py9bLguFEjfg"
      },
      "source": [
        "Validation accuracy of nearest neighbour is considerably less than its train accuracy while the validation accuracy of random classifier is the same. However, the validation accuracy of nearest neighbour is twice that of the random classifier.\n",
        "\n",
        "Now let us try another random split and check the validation accuracy"
      ]
    },
    {
      "cell_type": "code",
      "metadata": {
        "id": "ujm3cyYzEntE",
        "colab": {
          "base_uri": "https://localhost:8080/"
        },
        "outputId": "918de9ea-b0a8-4f4d-ff55-135580cd7376"
      },
      "source": [
        "traindata, trainlabel, valdata, vallabel = split(alltraindata, alltrainlabel, 75/100)\n",
        "valpred = NN(traindata, trainlabel, valdata)\n",
        "valAccuracy = Accuracy(vallabel, valpred)\n",
        "print(\"Validation accuracy of nearest neighbour is \", valAccuracy)"
      ],
      "execution_count": 14,
      "outputs": [
        {
          "output_type": "stream",
          "name": "stdout",
          "text": [
            "Validation accuracy of nearest neighbour is  0.34048257372654156\n"
          ]
        }
      ]
    },
    {
      "cell_type": "markdown",
      "metadata": {
        "id": "oSOx7U83EKie"
      },
      "source": [
        "You can run the above cell multiple times to try with different random splits.\n",
        "We notice that the accuracy is different for each run, but close together.\n",
        "\n",
        "Now let us compare it with the accuracy we get on the test dataset."
      ]
    },
    {
      "cell_type": "code",
      "metadata": {
        "id": "PNEZ5ToYBEDW",
        "colab": {
          "base_uri": "https://localhost:8080/"
        },
        "outputId": "51be6596-b948-4681-a83d-843e985a70c4"
      },
      "source": [
        "testpred = NN(alltraindata, alltrainlabel, testdata)\n",
        "testAccuracy = Accuracy(testlabel, testpred)\n",
        "print('Test accuracy is ', testAccuracy)"
      ],
      "execution_count": 15,
      "outputs": [
        {
          "output_type": "stream",
          "name": "stdout",
          "text": [
            "Test accuracy is  0.34917953667953666\n"
          ]
        }
      ]
    },
    {
      "cell_type": "markdown",
      "metadata": {
        "id": "w3dGD531K3gH"
      },
      "source": [
        "### Try it out for yourself and answer:\n",
        "1. How is the accuracy of the validation set affected if we increase the percentage of validation set? What happens when we reduce it?\n",
        "2. How does the size of the train and validation set affect how well we can predict the accuracy on the test set using the validation set?\n",
        "3. What do you think is a good percentage to reserve for the validation set so that thest two factors are balanced?\n",
        "\n",
        "Answer for both nearest neighbour and random classifier. You can note down the values for your experiments and plot a graph using  <a href=https://matplotlib.org/stable/gallery/lines_bars_and_markers/step_demo.html#sphx-glr-gallery-lines-bars-and-markers-step-demo-py>plt.plot<href>. Check also for extreme values for splits, like 99.9% or 0.1%"
      ]
    },
    {
      "cell_type": "markdown",
      "source": [
        "1.Answer for first question"
      ],
      "metadata": {
        "id": "vV0JdSCNhoo5"
      }
    },
    {
      "cell_type": "markdown",
      "source": [
        "ncreasing the Percentage of Validation Set:\n",
        "\n",
        "Positive Impact on Model Performance: When you increase the percentage of data allocated to the validation set, you are effectively reducing the amount of training data. This can lead to several outcomes:\n",
        "Better Generalization: A larger validation set can help you better estimate the model's performance on unseen data. It can reveal issues with overfitting because the model has less data to overfit on during training.\n",
        "Robustness Testing: A larger validation set allows for more robust testing of the model's performance, ensuring it performs well on a broader range of data.\n",
        "Negative Impact on Model Performance: However, there are trade-offs to consider:\n",
        "Reduced Training Data: With more data allocated to validation, you have less data available for training. This can result in a model that doesn't learn as effectively, potentially leading to underfitting.\n",
        "Slower Training: Training may take longer as the model has fewer samples for learning.\n",
        "Finding the Right Balance: The optimal size for a validation set depends on the dataset, the complexity of the model, and the amount of data available. Cross-validation techniques can help mitigate the negative impact of a smaller training set while providing robust validation.\n",
        "Reducing the Percentage of Validation Set:\n",
        "\n",
        "Positive Impact on Model Performance: Reducing the percentage of data allocated to the validation set means you have more data available for training. This can lead to the following outcomes:"
      ],
      "metadata": {
        "id": "FIHBlzaGkjtZ"
      }
    },
    {
      "cell_type": "markdown",
      "source": [
        "2.Answer For Second Question"
      ],
      "metadata": {
        "id": "mjZ1jnxKhzMx"
      }
    },
    {
      "cell_type": "markdown",
      "source": [
        "Reduced Training Data: With more data allocated to validation, you have less data available for training. This can result in a model that doesn't learn as effectively, potentially leading to underfitting.\n",
        "Slower Training: Training may take longer as the model has fewer samples for learning.\n",
        "Finding the Right Balance: The optimal size for a validation set depends on the dataset, the complexity of the model, and the amount of data available. Cross-validation techniques can help mitigate the negative impact of a smaller training set while providing robust validation.\n",
        "Reducing the Percentage of Validation Set:\n",
        "\n",
        "Positive Impact on Model Performance: Reducing the percentage of data allocated to the validation set means you have more data available for training. This can lead to the following outcomes:\n",
        "Larger Validation Set:\n",
        "\n",
        "A larger validation set can provide a more accurate estimate of how well the model generalizes to unseen data.\n",
        "With a larger validation set, the model's performance on this set is likely to be a better indicator of its performance on the test set.\n",
        "However, if you allocate too much data to the validation set, you may reduce the amount of data available for training, potentially leading to underfitting. The model may not learn the underlying patterns effectively."
      ],
      "metadata": {
        "id": "zCWrInQolakY"
      }
    },
    {
      "cell_type": "markdown",
      "source": [
        "3.Answer For Third Question"
      ],
      "metadata": {
        "id": "tndnYJ2ri78v"
      }
    },
    {
      "cell_type": "markdown",
      "source": [
        "Rule of Thumb: A common practice is to split your data into three sets: training, validation, and test. Common split ratios are 70-15-15, 80-10-10, or 60-20-20, where the first number represents the percentage allocated to training, the second to validation, and the third to testing. These ratios ensure a reasonable balance between training and validation, while still reserving a separate test set for final evaluation.\n",
        "\n",
        "Size of Dataset: If you have a small dataset, you might lean towards a larger validation set because you have limited data for training. For very large datasets, a smaller validation set may be sufficient.\n",
        "\n",
        "Complexity of Model: If you're working with a complex model (e.g., deep neural networks), you may need a larger validation set to detect overfitting. Simpler models may require a smaller validation set."
      ],
      "metadata": {
        "id": "06PRuU9Ojt3i"
      }
    },
    {
      "cell_type": "markdown",
      "source": [],
      "metadata": {
        "id": "6aQQYY7AjM1L"
      }
    },
    {
      "cell_type": "markdown",
      "source": [],
      "metadata": {
        "id": "JQEsd_7bjDIa"
      }
    },
    {
      "cell_type": "markdown",
      "source": [],
      "metadata": {
        "id": "qxnRL7PJiylI"
      }
    },
    {
      "cell_type": "markdown",
      "source": [],
      "metadata": {
        "id": "Uz-yZDekiF6t"
      }
    },
    {
      "cell_type": "markdown",
      "metadata": {
        "id": "PnYvkAZLQY7h"
      },
      "source": [
        "## Multiple Splits\n",
        "\n",
        "One way to get more accurate estimates for the test accuracy is by using <b>crossvalidation</b>. Here, we will try a simple version, where we do multiple train/val splits and take the average of validation accuracies as the test accuracy estimation. Here is a function for doing this. Note that this function will take a long time to execute."
      ]
    },
    {
      "cell_type": "code",
      "metadata": {
        "id": "E4nGCUQXBTzo"
      },
      "source": [
        "# you can use this function for random classifier also\n",
        "def AverageAccuracy(alldata, alllabel, splitpercent, iterations, classifier=NN):\n",
        "  accuracy = 0\n",
        "  for ii in range(iterations):\n",
        "    traindata, trainlabel, valdata, vallabel = split(alldata, alllabel, splitpercent)\n",
        "    valpred = classifier(traindata, trainlabel, valdata)\n",
        "    accuracy += Accuracy(vallabel, valpred)\n",
        "  return accuracy/iterations # average of all accuracies"
      ],
      "execution_count": 16,
      "outputs": []
    },
    {
      "cell_type": "code",
      "metadata": {
        "id": "H3qtNar7Bbik"
      },
      "source": [
        "print('Average validation accuracy is ', AverageAccuracy(alltraindata, alltrainlabel, 75/100, 10, classifier=NN))\n",
        "testpred = NN(alltraindata, alltrainlabel, testdata)\n",
        "print('test accuracy is ',Accuracy(testlabel, testpred) )"
      ],
      "execution_count": null,
      "outputs": []
    },
    {
      "cell_type": "code",
      "source": [],
      "metadata": {
        "id": "WXfkYH-t0EHy"
      },
      "execution_count": null,
      "outputs": []
    },
    {
      "cell_type": "markdown",
      "metadata": {
        "id": "33GIn4x5VH-d"
      },
      "source": [
        "This is a very simple way of doing cross-validation. There are many well-known algorithms for cross-validation, like k-fold cross-validation, leave-one-out etc. This will be covered in detail in a later module. For more information about cross-validation, check <a href=https://en.wikipedia.org/wiki/Cross-validation_(statistics)>Cross-validatioin (Wikipedia)</a>\n",
        "\n",
        "### Questions\n",
        "1. Does averaging the validation accuracy across multiple splits give more consistent results?\n",
        "2. Does it give more accurate estimate of test accuracy?\n",
        "3. What is the effect of the number of iterations on the estimate? Do we get a better estimate with higher iterations?\n",
        "4. Consider the results you got for the previous questions. Can we deal with a very small train dataset or validation dataset by increasing the iterations?\n"
      ]
    },
    {
      "cell_type": "markdown",
      "source": [
        "1.Answer For First Question"
      ],
      "metadata": {
        "id": "UT-x9PtKwH35"
      }
    },
    {
      "cell_type": "markdown",
      "source": [
        "Reducing Variance: Averaging validation accuracy over multiple splits helps reduce the impact of random variations in the data split. When you perform a single random split of your data into a training and validation set, the performance metric might be influenced by which data points ended up in the validation set. By repeatedly splitting the data into different subsets, you get a more stable estimate of the model's performance.\n",
        "\n",
        "Better Generalization Estimate: Cross-validation provides a better estimate of how well your model will generalize to unseen data. It assesses how your model performs across different subsets of the data, which can be particularly useful when you have a limited dataset.\n",
        "\n",
        "More Robust Model Selection: If you're using cross-validation for hyperparameter tuning or model selection, averaging the results over multiple folds helps you make more informed decisions about which model or set of hyperparameters performs best on average."
      ],
      "metadata": {
        "id": "V_H0X94GwUHn"
      }
    },
    {
      "cell_type": "markdown",
      "source": [
        "2. Answer For Second Question"
      ],
      "metadata": {
        "id": "NWsVOJxjwflm"
      }
    },
    {
      "cell_type": "markdown",
      "source": [
        "Averaging the validation accuracy across multiple splits using techniques like k-fold cross-validation does not directly provide a more accurate estimate of the test accuracy. Instead, it provides a more accurate estimate of how well your model is likely to perform on unseen data, which is similar to what the test accuracy measures. Here's how it works:\n",
        "\n",
        "Validation Accuracy: When you use cross-validation, you split your dataset into multiple folds (e.g., 5 or 10) and train and validate your model on different combinations of these folds. You calculate the validation accuracy for each fold, and then you typically average these validation accuracies to obtain a more stable estimate of how well your model performs on data it hasn't seen during training.\n",
        "\n",
        "Test Accuracy: The test accuracy is typically calculated on a separate, held-out test dataset that the model has never seen during training or cross-validation. It provides an estimate of how well the model generalizes to completely new, unseen data.\n",
        "\n",
        "While cross-validation does provide a more robust estimate of how well the model will perform on unseen data compared to a single validation split, it's important to note that the test accuracy is still the most direct and accurate estimate of a model's performance on truly unseen data. The test dataset is entirely separate from the training and validation data and serves as an unbiased evaluation of the model's generalization ability."
      ],
      "metadata": {
        "id": "zVD_uZI5xYlu"
      }
    },
    {
      "cell_type": "markdown",
      "source": [
        "3.Answer For Third Question"
      ],
      "metadata": {
        "id": "HtVuOpTZxnct"
      }
    },
    {
      "cell_type": "markdown",
      "source": [
        "The number of iterations or epochs in machine learning, particularly in training deep learning models, can have a significant impact on the estimate of the model's performance. In general, increasing the number of iterations can lead to a better estimate, but it's essential to strike a balance to avoid overfitting and excessive computational cost. Here's how it works:\n",
        "\n",
        "Effect of Number of Iterations:\n",
        "\n",
        "Early Iterations: In the early iterations of training, the model is learning the underlying patterns in the training data. The training loss decreases, and the model becomes better at fitting the training data.\n",
        "Later Iterations: As you continue training for more iterations, the model may start to overfit the training data. It becomes increasingly specialized in capturing noise in the data, which can lead to a decrease in performance on unseen data (validation or test sets).\n",
        "Finding the Right Number of Iterations:\n",
        "\n",
        "Underfitting: If you stop training too early (few iterations), the model may underfit the data, resulting in suboptimal performance.\n",
        "Overfitting: If you train for too many iterations, the model may overfit the training data and not generalize well to new data.\n",
        "Early Stopping: To find the right balance, many practitioners use techniques like early stopping. This involves monitoring the model's performance on a validation set during training and stopping when performance starts to degrade (indicating overfitting).\n",
        "Regularization Techniques: Regularization techniques like dropout, weight decay, and batch normalization can help mitigate the overfitting risk associated with training for a large number of iterations."
      ],
      "metadata": {
        "id": "WlwP8LBuyXav"
      }
    },
    {
      "cell_type": "markdown",
      "source": [
        "4.Answer For Fourth Question"
      ],
      "metadata": {
        "id": "h6c0y4Onyso8"
      }
    },
    {
      "cell_type": "markdown",
      "source": [
        "Increasing the number of iterations can help to some extent when dealing with a small training dataset or a small validation dataset, but it has its limitations. Here's how increasing iterations can impact the situation:\n",
        "\n",
        "Small Training Dataset:\n",
        "\n",
        "If you have a very small training dataset, increasing the number of iterations can allow the model to see and learn from the limited data more thoroughly. It might help the model capture more patterns and improve its performance.\n",
        "However, there's a risk of overfitting when using a small training dataset, especially if you train for a large number of iterations. The model may start to memorize the training data rather than generalize from it. In such cases, regularization techniques like dropout, weight decay, or using a simpler model architecture may be necessary to prevent overfitting.\n",
        "Small Validation Dataset:\n",
        "\n",
        "A small validation dataset can make it challenging to reliably estimate the model's performance. Increasing the number of iterations can help in the sense that it allows the model to be evaluated more times on the validation set, potentially leading to a more stable estimate of performance.\n",
        "However, the fundamental issue of a small validation dataset remains. It may not adequately represent the diversity of data the model will encounter in real-world scenarios. This can limit the model's ability to generalize effectively."
      ],
      "metadata": {
        "id": "gy92v6qmzgu3"
      }
    },
    {
      "cell_type": "markdown",
      "source": [],
      "metadata": {
        "id": "2PK90q2XzImv"
      }
    },
    {
      "cell_type": "markdown",
      "source": [],
      "metadata": {
        "id": "gPNmCp0DxtcL"
      }
    },
    {
      "cell_type": "markdown",
      "source": [],
      "metadata": {
        "id": "XZAFhDY7wmV4"
      }
    }
  ]
}